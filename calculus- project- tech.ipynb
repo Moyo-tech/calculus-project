{
 "cells": [
  {
   "cell_type": "markdown",
   "metadata": {},
   "source": [
    "APPLICATIONS OF DEFINITE INTEGRALS IN BUSINESS AND ECONOMICS   \n",
    "CONSUMER SURPLUS(CS) & PRODUCER SURPLUS\n",
    "\n",
    "\n",
    "Demand Function: p = demand(x) (p = price per unit, and x = quantity demanded )\n",
    "Supply Function: p =supply(x) (p = price per unit, and x = quantity supplied)\n",
    "\n",
    "EXAMPLE 1 :\n",
    "The demand function for a product is p = 1834/x+6  (s/unit) and the supply function for the same product is given by p = 3 + 8x + x^2, where p = price and x = quantity =(thousands of units).\n",
    "\n",
    "(a) Sketch the graph of the consumer and producer surplus using the demand and supply function for 0 <= x <= 10. Show your scale on the axes \n",
    "\n",
    "(b) Find (xe, pe) the equilibrium point. \n",
    "\n",
    "(c) Write the integral for the consumer surplus (for these specific functions) and find the producer surplus\n",
    " \n",
    "(d) Write the integral for the producer surplus (for these specific functions) and find the producer surplus \n"
   ]
  },
  {
   "cell_type": "code",
   "execution_count": null,
   "metadata": {},
   "outputs": [],
   "source": [
    "import matplotlib.pyplot as pyplot\n",
    "import numpy as np  \n",
    "import sympy as sy\n"
   ]
  },
  {
   "cell_type": "code",
   "execution_count": 17,
   "metadata": {},
   "outputs": [],
   "source": [
    "def demand(x):    \n",
    "  return 1834 / (x + 6) #demand function\n",
    "\n",
    "def supply(x):   \n",
    "  return 3 + 8*x + x **2    #supply function \n",
    "   "
   ]
  },
  {
   "cell_type": "markdown",
   "metadata": {},
   "source": [
    "MARKET EQUILIBRIUM\n",
    "\n",
    "Equilibrium Point : The intersection point of demand function and supply function. \n",
    "\n",
    "        xe: Equilibrium Quantity\n",
    "        pe: Equilibrium Price"
   ]
  },
  {
   "cell_type": "code",
   "execution_count": 12,
   "metadata": {},
   "outputs": [
    {
     "name": "stdout",
     "output_type": "stream",
     "text": [
      "xe = 8\n",
      "pe = 131\n"
     ]
    }
   ],
   "source": [
    "from scipy.optimize import fsolve\n",
    "import numpy as np  \n",
    "def f(xy):\n",
    "  x, y = xy\n",
    "  z = np.array([y-demand(x), y -supply(x)])\n",
    "  return z\n",
    "eq = fsolve(f, [0,10])    #Equilibrium Point\n",
    "xe = int(eq[0])\n",
    "pe = int(eq[1])\n",
    "print(\"xe =\", xe)\n",
    "print(\"pe =\", pe)  "
   ]
  },
  {
   "cell_type": "code",
   "execution_count": 20,
   "metadata": {},
   "outputs": [
    {
     "data": {
      "image/png": "[encoded data removed]",
      "text/plain": [
       "<Figure size 432x288 with 1 Axes>"
      ]
     },
     "metadata": {
      "needs_background": "light"
     },
     "output_type": "display_data"
    }
   ],
   "source": [
    "import matplotlib.pyplot as plt\n",
    "import numpy as np  \n",
    "\n",
    "x= np.linspace(0, 10, 100)\n",
    "plt.plot (x, demand(x), '-b', label = 'Demand Function demand(x)')   #Graph of the demand function\n",
    "plt.plot (x, supply(x), '-g', label = 'Supply Function demand(x)') #Graph of the supply function\n",
    "\n",
    "plt.axhline(y = pe, color = 'black', linestyle = '--')  #Horizontal line based on the equilibrium\n",
    "plt.axvline(x = xe, color = 'black', linestyle = '--')  #Vertical line based on the equilibrium\n",
    "plt.axhline( color = 'black') \n",
    "plt.plot(xe, pe, 'ro') \n",
    "\n",
    "\n",
    "x= np.linspace(0, xe, 100)\n",
    "plt.fill_between(x, demand(x), pe, color ='yellow', alpha = 0.5)  #The are in yellow in CS(consumer Surplus)\n",
    "plt.fill_between(x, pe, supply(x), color ='lightgreen', alpha = 0.5)  #The are in yellow in PS(producer Surplus)\n",
    "\n",
    "plt.xlabel(\"Quanity\")\n",
    "plt.ylabel(\"price\")\n",
    "plt.legend()\n",
    "plt.xticks([0, xe], ['0', 'xe'])\n",
    "plt.yticks([0, pe], ['0', 'pe'])\n",
    "plt.show()"
   ]
  },
  {
   "cell_type": "markdown",
   "metadata": {},
   "source": [
    " TOTAL REVENUE\n",
    "  \n",
    " The area of the rectangle A = xe . pe represents the total dollars spent by the consumers and received as revenue by producers."
   ]
  },
  {
   "cell_type": "code",
   "execution_count": 23,
   "metadata": {},
   "outputs": [
    {
     "name": "stdout",
     "output_type": "stream",
     "text": [
      "1048\n"
     ]
    }
   ],
   "source": [
    "TR = xe * pe\n",
    "print(TR )\n"
   ]
  },
  {
   "cell_type": "markdown",
   "metadata": {},
   "source": [
    " CONSUMER SURPLUS \n",
    "\n",
    " If xe and pe represent the equilibrium quantity and price, respectively, then the consumer's surplus is:\n",
    " \n",
    "      CS =  ∫ (demand)dx - TR, where TR = xe * pe  "
   ]
  },
  {
   "cell_type": "code",
   "execution_count": 25,
   "metadata": {},
   "outputs": [
    {
     "name": "stdout",
     "output_type": "stream",
     "text": [
      "CS = 505.94\n"
     ]
    }
   ],
   "source": [
    "import sympy as sy\n",
    "x = sy.Symbol('x')\n",
    "result1 = sy.integrate(demand(x), (x, 0, xe)) - TR\n",
    "print (\"CS =\", '%.2f' %result1)"
   ]
  },
  {
   "cell_type": "markdown",
   "metadata": {},
   "source": [
    "PRODUCER SURPLUS \n",
    "\n",
    "If xe and pe represent the equilibrium quantity and price, respectively, then the producer's surplus is:\n",
    "\n",
    "            PS = TR - ∫ (supply) dx,  where TR = xe * pe"
   ]
  },
  {
   "cell_type": "code",
   "execution_count": 27,
   "metadata": {},
   "outputs": [
    {
     "name": "stdout",
     "output_type": "stream",
     "text": [
      "PS =  597.33\n"
     ]
    }
   ],
   "source": [
    "import sympy as sy\n",
    "x = sy.Symbol('x')\n",
    "result1 = TR - sy.integrate(supply(x), (x, 0, xe))\n",
    "print('PS = ', '%.2f' %result1) "
   ]
  }
 ],
 "metadata": {
  "interpreter": {
   "hash": "d0f1a46e1b8bb49f6fe66dfa14ba01e1c4ea6e7377c07a6040c9a42d856a631d"
  },
  "kernelspec": {
   "display_name": "Python 3.9.4 64-bit",
   "language": "python",
   "name": "python3"
  },
  "language_info": {
   "codemirror_mode": {
    "name": "ipython",
    "version": 3
   },
   "file_extension": ".py",
   "mimetype": "text/x-python",
   "name": "python",
   "nbconvert_exporter": "python",
   "pygments_lexer": "ipython3",
   "version": "3.9.4"
  },
  "orig_nbformat": 4
 },
 "nbformat": 4,
 "nbformat_minor": 2
}
